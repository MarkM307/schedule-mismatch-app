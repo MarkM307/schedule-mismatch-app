{
 "cells": [
  {
   "cell_type": "code",
   "execution_count": 1,
   "id": "2e405746",
   "metadata": {},
   "outputs": [],
   "source": [
    "import ipywidgets as widgets\n",
    "import ipysheet\n",
    "import pandas as pd\n",
    "from IPython.display import display\n",
    "\n",
    "# --- Constants ---\n",
    "DAYS = [\"Monday\",\"Tuesday\",\"Wednesday\",\"Thursday\",\"Friday\",\"Saturday\",\"Sunday\"]\n",
    "PERIODS = [\"Early Morning\",\"Late Morning\",\"Early Afternoon\",\"Late Afternoon\"]\n",
    "LOCATIONS = [\n",
    "    \"\", \"Office\", \"Secondary Office\",\n",
    "    \"Home\", \"Co-Working\", \"Public\",\n",
    "    \"Client\", \"Project Site/Travel\", \"Non-Working\"\n",
    "]\n",
    "WEIGHTS = {\n",
    "    1:{1:2},\n",
    "    2:{1:3,2:2},\n",
    "    3:{1:4,2:3,3:2},\n",
    "    4:{1:5,2:4,3:3,4:2}\n",
    "}"
   ]
  },
  {
   "cell_type": "code",
   "execution_count": 2,
   "id": "a271eca0",
   "metadata": {},
   "outputs": [
    {
     "data": {
      "application/vnd.jupyter.widget-view+json": {
       "model_id": "f91506b1afa34a72ae111d843ca12259",
       "version_major": 2,
       "version_minor": 0
      },
      "text/plain": [
       "Label(value='<b>Current Schedule</b>')"
      ]
     },
     "metadata": {},
     "output_type": "display_data"
    },
    {
     "data": {
      "application/vnd.jupyter.widget-view+json": {
       "model_id": "896e2f6a15b040e5b900ab81a1a7ce1d",
       "version_major": 2,
       "version_minor": 0
      },
      "text/plain": [
       "HBox(children=(VBox(children=(Dropdown(description='Day:', options=('', 'Monday', 'Tuesday', 'Wednesday', 'Thu…"
      ]
     },
     "metadata": {},
     "output_type": "display_data"
    },
    {
     "data": {
      "application/vnd.jupyter.widget-view+json": {
       "model_id": "0a34020d89aa473081c38f5f4e3ec775",
       "version_major": 2,
       "version_minor": 0
      },
      "text/plain": [
       "VBox(children=(HBox(children=(Label(value='', layout=Layout(width='120px')), Label(value='Monday', layout=Layo…"
      ]
     },
     "metadata": {},
     "output_type": "display_data"
    }
   ],
   "source": [
    "from ipywidgets import Dropdown, Button, HBox, VBox, Label, Layout\n",
    "\n",
    "# --- Controls for filling ---\n",
    "current_day_dd    = Dropdown(options=[\"\"]+DAYS,    description=\"Day:\")\n",
    "current_loc_dd    = Dropdown(options=LOCATIONS,    description=\"Loc:\")\n",
    "current_fill_day_btn    = Button(description=\"Fill Day\")\n",
    "current_period_dd = Dropdown(options=[\"\"]+PERIODS, description=\"Period:\")\n",
    "current_loc_period_dd   = Dropdown(options=LOCATIONS, description=\"Loc:\")\n",
    "current_fill_period_btn = Button(description=\"Fill Period\")\n",
    "\n",
    "# Handlers\n",
    "def on_fill_current_day(_):\n",
    "    d, loc = current_day_dd.value, current_loc_dd.value\n",
    "    if d:\n",
    "        for p in PERIODS:\n",
    "            current_cells[(p, d)].value = loc\n",
    "\n",
    "def on_fill_current_period(_):\n",
    "    p, loc = current_period_dd.value, current_loc_period_dd.value\n",
    "    if p:\n",
    "        for d in DAYS:\n",
    "            current_cells[(p, d)].value = loc\n",
    "\n",
    "current_fill_day_btn.on_click(on_fill_current_day)\n",
    "current_fill_period_btn.on_click(on_fill_current_period)\n",
    "\n",
    "# Build the grid of Dropdowns\n",
    "current_cells = {}\n",
    "grid_rows = []\n",
    "\n",
    "# Header row\n",
    "header = [Label(\"\", layout=Layout(width=\"120px\"))] + [\n",
    "    Label(day, layout=Layout(width=\"120px\", font_weight='bold')) for day in DAYS\n",
    "]\n",
    "grid_rows.append(HBox(header, layout=Layout(margin=\"0 0 5px 0\")))\n",
    "\n",
    "# Period rows\n",
    "for period in PERIODS:\n",
    "    row = [Label(period, layout=Layout(width=\"120px\", font_weight='bold'))]\n",
    "    for day in DAYS:\n",
    "        dd = Dropdown(options=LOCATIONS, value=\"\", layout=Layout(width=\"120px\"))\n",
    "        current_cells[(period, day)] = dd\n",
    "        row.append(dd)\n",
    "    grid_rows.append(HBox(row, layout=Layout(margin=\"0 0 5px 0\")))\n",
    "\n",
    "# Display\n",
    "display(Label(\"<b>Current Schedule</b>\"), \n",
    "        HBox([\n",
    "          VBox([current_day_dd, current_period_dd]), \n",
    "          VBox([current_loc_dd, current_loc_period_dd]),\n",
    "          VBox([current_fill_day_btn, current_fill_period_btn])\n",
    "        ], layout=Layout(margin=\"10px 0\")),\n",
    "        VBox(grid_rows))\n"
   ]
  },
  {
   "cell_type": "code",
   "execution_count": 3,
   "id": "89406a13",
   "metadata": {},
   "outputs": [
    {
     "data": {
      "application/vnd.jupyter.widget-view+json": {
       "model_id": "c4fed53fd9dc4f54963552de6315afc2",
       "version_major": 2,
       "version_minor": 0
      },
      "text/plain": [
       "HTML(value='<h4>Preferred Schedule</h4>')"
      ]
     },
     "metadata": {},
     "output_type": "display_data"
    },
    {
     "data": {
      "application/vnd.jupyter.widget-view+json": {
       "model_id": "d8e273dada564a81b2204edf8c210dfd",
       "version_major": 2,
       "version_minor": 0
      },
      "text/plain": [
       "HBox(children=(Dropdown(description='Day:', options=('', 'Monday', 'Tuesday', 'Wednesday', 'Thursday', 'Friday…"
      ]
     },
     "metadata": {},
     "output_type": "display_data"
    },
    {
     "data": {
      "application/vnd.jupyter.widget-view+json": {
       "model_id": "dad59738f7434d728487559f77b850ea",
       "version_major": 2,
       "version_minor": 0
      },
      "text/plain": [
       "VBox(children=(HBox(children=(Label(value='', layout=Layout(width='120px')), Label(value='Monday', layout=Layo…"
      ]
     },
     "metadata": {},
     "output_type": "display_data"
    },
    {
     "data": {
      "application/vnd.jupyter.widget-view+json": {
       "model_id": "673fd64f7c7547ffb386bf95e0da727b",
       "version_major": 2,
       "version_minor": 0
      },
      "text/plain": [
       "HTML(value='<b>Preferred Office Days:</b> 0.00')"
      ]
     },
     "metadata": {},
     "output_type": "display_data"
    }
   ],
   "source": [
    "# Cell 3: Preferred Schedule Grid + Office‐day Count\n",
    "\n",
    "from ipywidgets import Dropdown, Button, HBox, VBox, Label, Layout, HTML\n",
    "\n",
    "# --- Fill controls for Preferred Schedule ---\n",
    "pref_day_dd    = Dropdown(options=[\"\"]+DAYS,    description=\"Day:\")\n",
    "pref_loc_dd    = Dropdown(options=LOCATIONS,    description=\"Loc:\")\n",
    "pref_fill_day_btn    = Button(description=\"Fill Day\")\n",
    "pref_period_dd = Dropdown(options=[\"\"]+PERIODS, description=\"Period:\")\n",
    "pref_loc_period_dd   = Dropdown(options=LOCATIONS, description=\"Loc:\")\n",
    "pref_fill_period_btn = Button(description=\"Fill Period\")\n",
    "\n",
    "# Event handlers\n",
    "def on_fill_pref_day(_):\n",
    "    d, loc = pref_day_dd.value, pref_loc_dd.value\n",
    "    if d:\n",
    "        for p in PERIODS:\n",
    "            pref_cells[(p, d)].value = loc\n",
    "    update_pref_count()\n",
    "\n",
    "def on_fill_pref_period(_):\n",
    "    p, loc = pref_period_dd.value, pref_loc_period_dd.value\n",
    "    if p:\n",
    "        for d in DAYS:\n",
    "            pref_cells[(p, d)].value = loc\n",
    "    update_pref_count()\n",
    "\n",
    "pref_fill_day_btn.on_click(on_fill_pref_day)\n",
    "pref_fill_period_btn.on_click(on_fill_pref_period)\n",
    "\n",
    "# Build the grid of Dropdowns\n",
    "pref_cells = {}\n",
    "pref_rows = []\n",
    "\n",
    "# Header row\n",
    "header = [Label(\"\", layout=Layout(width=\"120px\"))] + [\n",
    "    Label(day, layout=Layout(width=\"120px\", font_weight='bold')) for day in DAYS\n",
    "]\n",
    "pref_rows.append(HBox(header, layout=Layout(margin=\"0 0 5px 0\")))\n",
    "\n",
    "# Period rows\n",
    "for period in PERIODS:\n",
    "    row = [Label(period, layout=Layout(width=\"120px\", font_weight='bold'))]\n",
    "    for day in DAYS:\n",
    "        dd = Dropdown(options=LOCATIONS, value=\"\", layout=Layout(width=\"120px\"))\n",
    "        dd.observe(lambda change: update_pref_count(), names='value')\n",
    "        pref_cells[(period, day)] = dd\n",
    "        row.append(dd)\n",
    "    pref_rows.append(HBox(row, layout=Layout(margin=\"0 0 5px 0\")))\n",
    "\n",
    "# Label to display preferred office days\n",
    "pref_count_label = HTML(\"<b>Preferred Office Days:</b> 0.00\")\n",
    "\n",
    "def update_pref_count():\n",
    "    office_slots = sum(1 for dd in pref_cells.values() if dd.value in {\"Office\",\"Secondary Office\"})\n",
    "    days = office_slots * 0.25\n",
    "    pref_count_label.value = f\"<b>Preferred Office Days:</b> {days:.2f}\"\n",
    "\n",
    "# Initial count\n",
    "update_pref_count()\n",
    "\n",
    "# Display Preferred section\n",
    "display(HTML(\"<h4>Preferred Schedule</h4>\"))\n",
    "display(HBox([\n",
    "    pref_day_dd, pref_loc_dd, pref_fill_day_btn,\n",
    "    Label(\" \"),\n",
    "    pref_period_dd, pref_loc_period_dd, pref_fill_period_btn\n",
    "]))\n",
    "display(VBox(pref_rows))\n",
    "display(pref_count_label)\n"
   ]
  },
  {
   "cell_type": "code",
   "execution_count": 4,
   "id": "cc61910c",
   "metadata": {},
   "outputs": [
    {
     "data": {
      "application/vnd.jupyter.widget-view+json": {
       "model_id": "c7f2c941a273422ca505a0bd05ae0c9c",
       "version_major": 2,
       "version_minor": 0
      },
      "text/plain": [
       "Label(value='Priority Slots (up to 4)', layout=Layout(margin='10px 0 5px 0'))"
      ]
     },
     "metadata": {},
     "output_type": "display_data"
    },
    {
     "data": {
      "application/vnd.jupyter.widget-view+json": {
       "model_id": "d3f71fd551dd4867a03811f614160e9c",
       "version_major": 2,
       "version_minor": 0
      },
      "text/plain": [
       "HTML(value='')"
      ]
     },
     "metadata": {},
     "output_type": "display_data"
    },
    {
     "data": {
      "application/vnd.jupyter.widget-view+json": {
       "model_id": "c61b579b5092435a95cf1d68234e40d5",
       "version_major": 2,
       "version_minor": 0
      },
      "text/plain": [
       "VBox(children=(HBox(children=(Dropdown(description='1st Priority:', layout=Layout(width='300px'), options=('',…"
      ]
     },
     "metadata": {},
     "output_type": "display_data"
    }
   ],
   "source": [
    "# Cell 4: Priority Slot Inputs with Dynamic Weights\n",
    "\n",
    "import ipywidgets as widgets\n",
    "from IPython.display import display\n",
    "\n",
    "# Build options\n",
    "all_day_opts = [f\"All Day {day}\" for day in DAYS]\n",
    "slot_opts    = [f\"{day} - {period}\" for day in DAYS for period in PERIODS]\n",
    "prio_options = [\"\"] + all_day_opts + slot_opts\n",
    "\n",
    "# Helper to make each priority row: dropdown + weight label\n",
    "def make_prio_row(desc):\n",
    "    dd = widgets.Dropdown(\n",
    "        options=prio_options,\n",
    "        description=desc,\n",
    "        layout=widgets.Layout(width=\"300px\"),\n",
    "        style={\"description_width\": \"130px\"}\n",
    "    )\n",
    "    weight_lbl = widgets.Label(\"\", layout=widgets.Layout(width=\"80px\"))\n",
    "    return dd, weight_lbl\n",
    "\n",
    "prio1, w1 = make_prio_row(\"1st Priority:\")\n",
    "prio2, w2 = make_prio_row(\"2nd Priority:\")\n",
    "prio3, w3 = make_prio_row(\"3rd Priority:\")\n",
    "prio4, w4 = make_prio_row(\"4th Priority:\")\n",
    "prio_list   = [prio1, prio2, prio3, prio4]\n",
    "weight_list = [w1, w2, w3, w4]\n",
    "\n",
    "# Title\n",
    "display(widgets.Label(\"Priority Slots (up to 4)\", \n",
    "                      layout=widgets.Layout(margin=\"10px 0 5px 0\"),\n",
    "                      style={\"font_weight\":\"bold\",\"font_size\":\"18px\"}))\n",
    "\n",
    "# Message area\n",
    "msg = widgets.HTML()\n",
    "display(msg)\n",
    "\n",
    "# Update weights & prevent duplicates\n",
    "def update_priorities(change):\n",
    "    # Enforce uniqueness\n",
    "    sel = [d.value for d in prio_list if d.value]\n",
    "    if len(sel) != len(set(sel)):\n",
    "        dup = change.new\n",
    "        change.owner.value = \"\"\n",
    "        msg.value = f\"<span style='color:red'>'{dup}' removed (duplicate).</span>\"\n",
    "    else:\n",
    "        msg.value = \"\"\n",
    "    # Compute N = number of priorities selected\n",
    "    N = len(sel)\n",
    "    # Update each weight label\n",
    "    for idx, (dd, lbl) in enumerate(zip(prio_list, weight_list), start=1):\n",
    "        if dd.value:\n",
    "            lbl.value = f\"Weight: {WEIGHTS.get(N, {}).get(idx, 1)}\"\n",
    "        else:\n",
    "            lbl.value = \"\"\n",
    "\n",
    "# Attach observer\n",
    "for dd in prio_list:\n",
    "    dd.observe(update_priorities, names=\"value\")\n",
    "\n",
    "# Display rows\n",
    "rows = []\n",
    "for dd, lbl in zip(prio_list, weight_list):\n",
    "    rows.append(widgets.HBox([dd, lbl], layout=widgets.Layout(margin=\"2px 0\")))\n",
    "display(widgets.VBox(rows))\n"
   ]
  },
  {
   "cell_type": "code",
   "execution_count": 5,
   "id": "87404dea",
   "metadata": {},
   "outputs": [
    {
     "data": {
      "text/html": [
       "<h4>Rule Selection</h4>"
      ],
      "text/plain": [
       "<IPython.core.display.HTML object>"
      ]
     },
     "metadata": {},
     "output_type": "display_data"
    },
    {
     "data": {
      "application/vnd.jupyter.widget-view+json": {
       "model_id": "dd32a2781cca4ae690c0f8c93575281a",
       "version_major": 2,
       "version_minor": 0
      },
      "text/plain": [
       "BoundedIntText(value=0, description='Mandated Days:', max=7)"
      ]
     },
     "metadata": {},
     "output_type": "display_data"
    },
    {
     "data": {
      "application/vnd.jupyter.widget-view+json": {
       "model_id": "938207724fe04a44a03e2cf9bc65be59",
       "version_major": 2,
       "version_minor": 0
      },
      "text/plain": [
       "HTML(value=\"<b>Preferred Office Days:</b> 0.00 days; <b>Mandated Office Days:</b> 0 days.<br><b>Rule A:</b> Mi…"
      ]
     },
     "metadata": {},
     "output_type": "display_data"
    }
   ],
   "source": [
    "# Cell 5: Mandated Days & Rule Selection (including “Non-Working”)\n",
    "\n",
    "import ipywidgets as widgets\n",
    "from IPython.display import display, HTML\n",
    "\n",
    "# — Mandated days input —\n",
    "mandated_days = widgets.BoundedIntText(\n",
    "    value=0, min=0, max=7, step=1, description=\"Mandated Days:\"\n",
    ")\n",
    "\n",
    "# — Rule label —\n",
    "rule_label = widgets.HTML()\n",
    "\n",
    "# — Update function —\n",
    "def update_rule(*_):\n",
    "    # Count preferred office slots\n",
    "    office_slots = sum(\n",
    "        1 for dd in pref_cells.values()\n",
    "        if dd.value in {\"Office\", \"Secondary Office\"}\n",
    "    )\n",
    "    pref_days = office_slots * 0.25\n",
    "    mand = mandated_days.value\n",
    "\n",
    "    # Define mismatch sets (now includes “Non-Working”)\n",
    "    remote_set = {\"Home\", \"Co-Working\", \"Public\", \"Non-Working\"}\n",
    "    office_set = {\"Office\", \"Secondary Office\"}\n",
    "\n",
    "    if pref_days <= mand:\n",
    "        rule_desc = (\n",
    "            \"<b>Rule A:</b> Mismatch when \"\n",
    "            f\"Preferred ∈ {remote_set} AND Current ∈ {office_set}.\"\n",
    "        )\n",
    "    else:\n",
    "        rule_desc = (\n",
    "            \"<b>Rule B:</b> Mismatch when \"\n",
    "            f\"Current ∈ {remote_set} AND Preferred ∈ {office_set}.\"\n",
    "        )\n",
    "\n",
    "    rule_label.value = (\n",
    "        f\"<b>Preferred Office Days:</b> {pref_days:.2f} days; \"\n",
    "        f\"<b>Mandated Office Days:</b> {mand} days.<br>{rule_desc}\"\n",
    "    )\n",
    "\n",
    "# — Wire up updates —\n",
    "mandated_days.observe(update_rule, names=\"value\")\n",
    "for dd in pref_cells.values():\n",
    "    dd.observe(update_rule, names=\"value\")\n",
    "\n",
    "# — Initial display —\n",
    "update_rule()\n",
    "display(HTML(\"<h4>Rule Selection</h4>\"), mandated_days, rule_label)\n"
   ]
  },
  {
   "cell_type": "code",
   "execution_count": 6,
   "id": "8e3b91a8",
   "metadata": {},
   "outputs": [
    {
     "data": {
      "application/vnd.jupyter.widget-view+json": {
       "model_id": "611f8a8748ce4e4ea790edc18a354460",
       "version_major": 2,
       "version_minor": 0
      },
      "text/plain": [
       "Output()"
      ]
     },
     "metadata": {},
     "output_type": "display_data"
    }
   ],
   "source": [
    "# Cell 6: Auto-Recompute & list mismatches one by one (including Non-Working)\n",
    "\n",
    "import ipywidgets as widgets\n",
    "from IPython.display import display, HTML\n",
    "\n",
    "# Output area\n",
    "out = widgets.Output()\n",
    "display(out)\n",
    "\n",
    "def compute_score(change=None):\n",
    "    out.clear_output()\n",
    "    # 1) Determine Rule A vs B\n",
    "    office_slots = sum(1 for dd in pref_cells.values()\n",
    "                       if dd.value in {\"Office\", \"Secondary Office\"})\n",
    "    pref_days = office_slots * 0.25\n",
    "    mand = mandated_days.value\n",
    "    rule_a = (pref_days <= mand)\n",
    "\n",
    "    # Define sets including Non-Working\n",
    "    remote_set = {\"Home\", \"Co-Working\", \"Public\", \"Non-Working\"}\n",
    "    office_set = {\"Office\", \"Secondary Office\"}\n",
    "    \n",
    "    # 2) Build priority map\n",
    "    prio_vals = [d.value for d in prio_list if d.value]\n",
    "    prio_map = {}\n",
    "    for rank, val in enumerate(prio_vals, start=1):\n",
    "        if val.startswith(\"All Day\"):\n",
    "            day = val.split(\"All Day \")[1]\n",
    "            for p in PERIODS:\n",
    "                prio_map.setdefault((p, day), rank)\n",
    "        else:\n",
    "            day, period = val.split(\" - \")\n",
    "            prio_map.setdefault((period, day), rank)\n",
    "    N = len(prio_vals)\n",
    "    \n",
    "    # 3) Collect mismatches\n",
    "    mismatches = []\n",
    "    for period in PERIODS:\n",
    "        for day in DAYS:\n",
    "            pv = pref_cells[(period, day)].value\n",
    "            cv = current_cells[(period, day)].value\n",
    "            if not pv or not cv:\n",
    "                continue\n",
    "            if rule_a:\n",
    "                mis = (pv in remote_set and cv in office_set)\n",
    "            else:\n",
    "                mis = (cv in remote_set and pv in office_set)\n",
    "            if not mis:\n",
    "                continue\n",
    "            rank = prio_map.get((period, day), None)\n",
    "            points = WEIGHTS.get(N, {}).get(rank, 1) if rank else 1\n",
    "            mismatches.append({\n",
    "                \"day\": day, \"period\": period,\n",
    "                \"pref\": pv, \"curr\": cv,\n",
    "                \"rank\": rank, \"points\": points\n",
    "            })\n",
    "    \n",
    "    # 4) Render results\n",
    "    with out:\n",
    "        display(HTML(\n",
    "            f\"<b>Rule {'A' if rule_a else 'B'}</b>: \"\n",
    "            f\"Pref days={pref_days:.2f}, Mandated={mand}\"\n",
    "        ))\n",
    "        if not mismatches:\n",
    "            print(\"✅ No mismatches found.\")\n",
    "        else:\n",
    "            print(\"❗ Mismatches:\")\n",
    "            for m in mismatches:\n",
    "                pr_label = f\", priority={m['rank']}\" if m['rank'] else \"\"\n",
    "                print(f\"- {m['day']} {m['period']}: \"\n",
    "                      f\"preferred={m['pref']}, current={m['curr']}\"\n",
    "                      f\"{pr_label}, points={m['points']}\")\n",
    "        total = sum(m[\"points\"] for m in mismatches)\n",
    "        diff = total / 28 * 100\n",
    "        print(f\"\\nTotal mismatch points: {total}\")\n",
    "        print(f\"Difference Score: {diff:.2f}%\")\n",
    "\n",
    "# Auto-wire all inputs to recompute on change\n",
    "mandated_days.observe(compute_score, names='value')\n",
    "for dd in pref_cells.values():\n",
    "    dd.observe(compute_score, names='value')\n",
    "for dd in current_cells.values():\n",
    "    dd.observe(compute_score, names='value')\n",
    "for dd in prio_list:\n",
    "    dd.observe(compute_score, names='value')\n",
    "\n",
    "# Initial computation\n",
    "compute_score()\n"
   ]
  },
  {
   "cell_type": "code",
   "execution_count": null,
   "id": "70685102",
   "metadata": {},
   "outputs": [],
   "source": []
  }
 ],
 "metadata": {
  "kernelspec": {
   "display_name": "Python 3",
   "language": "python",
   "name": "python3"
  },
  "language_info": {
   "codemirror_mode": {
    "name": "ipython",
    "version": 3
   },
   "file_extension": ".py",
   "mimetype": "text/x-python",
   "name": "python",
   "nbconvert_exporter": "python",
   "pygments_lexer": "ipython3",
   "version": "3.9.6"
  }
 },
 "nbformat": 4,
 "nbformat_minor": 5
}
